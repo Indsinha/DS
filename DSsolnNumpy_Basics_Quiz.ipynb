{
 "cells": [
  {
   "cell_type": "markdown",
   "id": "809b6d96",
   "metadata": {},
   "source": [
    "# Numpy Basics Quiz\r\n",
    "\r\n",
    "1.\tObjective: How do you import the NumPy library in Python?\r\n",
    "2.\tObjective: What function in NumPy is used to create an array?\r\n",
    "3.\tObjective: How do you create a 1D NumPy array containing the numbers 0 to 9?\r\n",
    "4.\tObjective: How do you create a 2D NumPy array with shape (3, 3) filled with zeros?\r\n",
    "5.\tObjective: How do you create an identity matrix of size 4x4?\r\n",
    "6.\tObjective: How do you get the shape of a NumPy array arr?\r\n",
    "7.\tObjective: What function is used to get the total number of elements in a NumPy array arr?\r\n",
    "8.\tObjective: How do you get the data type of elements in a NumPy array arr?\r\n",
    "9.\tObjective: How do you change the data type of elements in a NumPy array arr to float?\r\n",
    "10.\tObjective: How do you create a 3x3 NumPy array with random values between 0 and 1?\r\n",
    "11.\tObjective: How do you flatten a 2D NumPy array arr into a 1D array?\r\n",
    "12.\tObjective: How do you reshape a 1D array arr of size 12 into a 3x4 array?\r\n",
    "13.\tOpen-ended: Write a code snippet to create a 5x5 matrix with values 1, 2, 3, ..., 25.\r\n",
    "14.\tOpen-ended: Write a code snippet to create a 1D array of 20 linearly spaced values between 0 and 5.\r\n",
    "15.\tOpen-ended: Write a code snippet to create a 3x3 matrix where the diagonal elements are 1 and the off-diagonal elements are 0.\r\n",
    "16.\tOpen-ended: Write a code snippet to create a 4x4 matrix filled with the value 7.\r\n",
    "17.\tOpen-ended: Write a code snippet to create an array containing the even numbers from 10 to 30.\r\n",
    "18.\tOpen-ended: Write a code snippet to create an array of 10 random integers between 50 and 100.\r\n",
    "19.\tExercise: Write a function that takes two arrays and returns their element-wise product.\r\n",
    "20.\tExercise: Write a function that takes an array and returns the maximum and minimum values.\r\n",
    "21.\tExercise: Write a function that normalizes an array (scales all values between 0 and 1).\r\n",
    "22.\tExercise: Write a function that takes an array and returns the index of the maximum value.\r\n",
    "23.\tExercise: Write a function that takes a 2D array and returns the sum of each row.\r\n",
    "24.\tExercise: Write a function that takes a 2D array and returns the sum of each column.\r\n",
    "25.\tExercise: Write a function that takes a 2D array and returns the transpose of the array.\r\n",
    "26.\tExercise: Write a function that takes an array and removes all the even numbers.\r\n",
    "27.\tExercise: Write a function that takes an array and reverses its elements.\r\n",
    "28.\tExercise: Write a function that takes a 2D array and returns the trace of the matrix (sum of diagonal elements).\r\n",
    "29.\tExercise: Write a function that takes two arrays and returns their dot product.\r\n",
    "30.\tExercise: Write a function that takes a 1D array and returns a boolean array indicating whether each element is greater than 5.\r\n"
   ]
  },
  {
   "cell_type": "markdown",
   "id": "0d05ff90",
   "metadata": {},
   "source": [
    "## Objective: How do you import the NumPy library in Python?"
   ]
  },
  {
   "cell_type": "code",
   "execution_count": 3,
   "id": "3b608da6",
   "metadata": {},
   "outputs": [],
   "source": [
    "import numpy as np"
   ]
  },
  {
   "cell_type": "markdown",
   "id": "9795cb59",
   "metadata": {},
   "source": [
    "## Objective: What function in NumPy is used to create an array?"
   ]
  },
  {
   "cell_type": "code",
   "execution_count": 21,
   "id": "42aefd9b",
   "metadata": {},
   "outputs": [
    {
     "data": {
      "text/plain": [
       "array([], dtype=float64)"
      ]
     },
     "execution_count": 21,
     "metadata": {},
     "output_type": "execute_result"
    }
   ],
   "source": [
    "arr=np.array([])\n",
    "arr"
   ]
  },
  {
   "cell_type": "markdown",
   "id": "0e8c38d2",
   "metadata": {},
   "source": [
    "## Objective: How do you create a 1D NumPy array containing the numbers 0 to 9?"
   ]
  },
  {
   "cell_type": "code",
   "execution_count": 19,
   "id": "8c7901c5",
   "metadata": {},
   "outputs": [
    {
     "data": {
      "text/plain": [
       "array([0, 1, 2, 3, 4, 5, 6, 7, 8, 9])"
      ]
     },
     "execution_count": 19,
     "metadata": {},
     "output_type": "execute_result"
    }
   ],
   "source": [
    "arr = np.arange(10)\n",
    "arr"
   ]
  },
  {
   "cell_type": "markdown",
   "id": "73d2e3fc",
   "metadata": {},
   "source": [
    "## Objective: How do you create a 2D NumPy array with shape (3, 3) filled with zeros?"
   ]
  },
  {
   "cell_type": "code",
   "execution_count": 23,
   "id": "af5c7fc8",
   "metadata": {},
   "outputs": [
    {
     "data": {
      "text/plain": [
       "array([[0., 0., 0.],\n",
       "       [0., 0., 0.],\n",
       "       [0., 0., 0.]])"
      ]
     },
     "execution_count": 23,
     "metadata": {},
     "output_type": "execute_result"
    }
   ],
   "source": [
    "arr = np.zeros((3, 3))\n",
    "arr"
   ]
  },
  {
   "cell_type": "markdown",
   "id": "e90482cf",
   "metadata": {},
   "source": [
    "## Objective: How do you create an identity matrix of size 4x4?"
   ]
  },
  {
   "cell_type": "code",
   "execution_count": 25,
   "id": "71332734",
   "metadata": {},
   "outputs": [
    {
     "data": {
      "text/plain": [
       "array([[1., 0., 0., 0.],\n",
       "       [0., 1., 0., 0.],\n",
       "       [0., 0., 1., 0.],\n",
       "       [0., 0., 0., 1.]])"
      ]
     },
     "execution_count": 25,
     "metadata": {},
     "output_type": "execute_result"
    }
   ],
   "source": [
    "arr = np.eye(4)\n",
    "arr"
   ]
  },
  {
   "cell_type": "markdown",
   "id": "2d3bbdac",
   "metadata": {},
   "source": [
    "## Objective: How do you get the shape of a NumPy array `arr`?"
   ]
  },
  {
   "cell_type": "code",
   "execution_count": 29,
   "id": "8619cdd1",
   "metadata": {},
   "outputs": [
    {
     "data": {
      "text/plain": [
       "(4, 4)"
      ]
     },
     "execution_count": 29,
     "metadata": {},
     "output_type": "execute_result"
    }
   ],
   "source": [
    "shape = arr.shape\n",
    "shape"
   ]
  },
  {
   "cell_type": "markdown",
   "id": "77a69906",
   "metadata": {},
   "source": [
    "## Objective: What function is used to get the total number of elements in a NumPy array `arr`?"
   ]
  },
  {
   "cell_type": "code",
   "execution_count": 33,
   "id": "9231ab96",
   "metadata": {},
   "outputs": [
    {
     "data": {
      "text/plain": [
       "16"
      ]
     },
     "execution_count": 33,
     "metadata": {},
     "output_type": "execute_result"
    }
   ],
   "source": [
    "np.size(arr)"
   ]
  },
  {
   "cell_type": "markdown",
   "id": "39632bd6",
   "metadata": {},
   "source": [
    "## Objective: How do you get the data type of elements in a NumPy array `arr`?"
   ]
  },
  {
   "cell_type": "code",
   "execution_count": 37,
   "id": "5a386c27",
   "metadata": {},
   "outputs": [
    {
     "data": {
      "text/plain": [
       "dtype('float64')"
      ]
     },
     "execution_count": 37,
     "metadata": {},
     "output_type": "execute_result"
    }
   ],
   "source": [
    "data_type = arr.dtype\n",
    "data_type"
   ]
  },
  {
   "cell_type": "markdown",
   "id": "5122b0dc",
   "metadata": {},
   "source": [
    "## Objective: How do you change the data type of elements in a NumPy array `arr` to float?"
   ]
  },
  {
   "cell_type": "code",
   "execution_count": 41,
   "id": "68c3e1c0",
   "metadata": {},
   "outputs": [
    {
     "data": {
      "text/plain": [
       "dtype('int32')"
      ]
     },
     "execution_count": 41,
     "metadata": {},
     "output_type": "execute_result"
    }
   ],
   "source": [
    "arr = arr.astype(int)\n",
    "data_type = arr.dtype\n",
    "data_type"
   ]
  },
  {
   "cell_type": "markdown",
   "id": "d18f5807",
   "metadata": {},
   "source": [
    "## Objective: How do you create a 3x3 NumPy array with random values between 0 and 1?"
   ]
  },
  {
   "cell_type": "code",
   "execution_count": 43,
   "id": "3183e57d",
   "metadata": {},
   "outputs": [
    {
     "data": {
      "text/plain": [
       "array([[0.48001261, 0.75313167, 0.02589705],\n",
       "       [0.27209876, 0.98080844, 0.38915059],\n",
       "       [0.00975845, 0.47980146, 0.44726495]])"
      ]
     },
     "execution_count": 43,
     "metadata": {},
     "output_type": "execute_result"
    }
   ],
   "source": [
    "arr = np.random.rand(3, 3)\n",
    "arr"
   ]
  },
  {
   "cell_type": "markdown",
   "id": "c4525f74",
   "metadata": {},
   "source": [
    "## Objective: How do you flatten a 2D NumPy array `arr` into a 1D array?"
   ]
  },
  {
   "cell_type": "code",
   "execution_count": 49,
   "id": "4f66a408",
   "metadata": {},
   "outputs": [
    {
     "data": {
      "text/plain": [
       "array([0.48001261, 0.75313167, 0.02589705, 0.27209876, 0.98080844,\n",
       "       0.38915059, 0.00975845, 0.47980146, 0.44726495])"
      ]
     },
     "execution_count": 49,
     "metadata": {},
     "output_type": "execute_result"
    }
   ],
   "source": [
    "flattened_arr=arr.flatten()\n",
    "flattened_arr"
   ]
  },
  {
   "cell_type": "markdown",
   "id": "b9af8363",
   "metadata": {},
   "source": [
    "## Objective: How do you reshape a 1D array `arr` of size 12 into a 3x4 array?"
   ]
  },
  {
   "cell_type": "code",
   "execution_count": 51,
   "id": "7a93edd2",
   "metadata": {},
   "outputs": [
    {
     "ename": "ValueError",
     "evalue": "cannot reshape array of size 9 into shape (3,4)",
     "output_type": "error",
     "traceback": [
      "\u001b[1;31m---------------------------------------------------------------------------\u001b[0m",
      "\u001b[1;31mValueError\u001b[0m                                Traceback (most recent call last)",
      "Cell \u001b[1;32mIn[51], line 1\u001b[0m\n\u001b[1;32m----> 1\u001b[0m reshaped_arr \u001b[38;5;241m=\u001b[39m \u001b[43marr\u001b[49m\u001b[38;5;241;43m.\u001b[39;49m\u001b[43mreshape\u001b[49m\u001b[43m(\u001b[49m\u001b[38;5;241;43m3\u001b[39;49m\u001b[43m,\u001b[49m\u001b[43m \u001b[49m\u001b[38;5;241;43m4\u001b[39;49m\u001b[43m)\u001b[49m\n\u001b[0;32m      2\u001b[0m reshaped_arr\n",
      "\u001b[1;31mValueError\u001b[0m: cannot reshape array of size 9 into shape (3,4)"
     ]
    }
   ],
   "source": [
    "reshaped_arr = arr.reshape(3, 4)\n",
    "reshaped_arr"
   ]
  },
  {
   "cell_type": "code",
   "execution_count": 58,
   "id": "c9af27e1-0897-4624-810d-34105580be6b",
   "metadata": {},
   "outputs": [
    {
     "data": {
      "text/plain": [
       "array([ 0,  1,  2,  3,  4,  5,  6,  7,  8,  9, 10, 11])"
      ]
     },
     "execution_count": 58,
     "metadata": {},
     "output_type": "execute_result"
    }
   ],
   "source": [
    "#array in prev step was 3x3 therefore contained 9 elements\n",
    "# creating an array with 12 elements to reshape into 3x4 \n",
    "arr = np.arange(12)\n",
    "arr\n"
   ]
  },
  {
   "cell_type": "code",
   "execution_count": 60,
   "id": "ea60dc27-b578-4637-9031-b9c0f5965c1a",
   "metadata": {},
   "outputs": [
    {
     "data": {
      "text/plain": [
       "array([[ 0,  1,  2,  3],\n",
       "       [ 4,  5,  6,  7],\n",
       "       [ 8,  9, 10, 11]])"
      ]
     },
     "execution_count": 60,
     "metadata": {},
     "output_type": "execute_result"
    }
   ],
   "source": [
    "reshaped_arr = arr.reshape(3, 4)\n",
    "reshaped_arr"
   ]
  },
  {
   "cell_type": "markdown",
   "id": "dc4f3e1f",
   "metadata": {},
   "source": [
    "## Open-ended: Write a code snippet to create a 5x5 matrix with values 1, 2, 3, ..., 25."
   ]
  },
  {
   "cell_type": "code",
   "execution_count": 64,
   "id": "b503cb54",
   "metadata": {},
   "outputs": [
    {
     "data": {
      "text/plain": [
       "array([[ 1,  2,  3,  4,  5],\n",
       "       [ 6,  7,  8,  9, 10],\n",
       "       [11, 12, 13, 14, 15],\n",
       "       [16, 17, 18, 19, 20],\n",
       "       [21, 22, 23, 24, 25]])"
      ]
     },
     "execution_count": 64,
     "metadata": {},
     "output_type": "execute_result"
    }
   ],
   "source": [
    "arr = np.arange(1, 26).reshape(5, 5)\n",
    "arr"
   ]
  },
  {
   "cell_type": "markdown",
   "id": "710829cc",
   "metadata": {},
   "source": [
    "## Open-ended: Write a code snippet to create a 1D array of 20 linearly spaced values between 0 and 5."
   ]
  },
  {
   "cell_type": "code",
   "execution_count": 66,
   "id": "aaf5f87c",
   "metadata": {},
   "outputs": [
    {
     "data": {
      "text/plain": [
       "array([0.        , 0.26315789, 0.52631579, 0.78947368, 1.05263158,\n",
       "       1.31578947, 1.57894737, 1.84210526, 2.10526316, 2.36842105,\n",
       "       2.63157895, 2.89473684, 3.15789474, 3.42105263, 3.68421053,\n",
       "       3.94736842, 4.21052632, 4.47368421, 4.73684211, 5.        ])"
      ]
     },
     "execution_count": 66,
     "metadata": {},
     "output_type": "execute_result"
    }
   ],
   "source": [
    "arr = np.linspace(0, 5, 20)\n",
    "arr"
   ]
  },
  {
   "cell_type": "markdown",
   "id": "215924df",
   "metadata": {},
   "source": [
    "## Open-ended: Write a code snippet to create a 3x3 matrix where the diagonal elements are 1 and the off-diagonal elements are 0."
   ]
  },
  {
   "cell_type": "code",
   "execution_count": 70,
   "id": "f83ba0c9",
   "metadata": {},
   "outputs": [
    {
     "data": {
      "text/plain": [
       "array([[1., 0., 0.],\n",
       "       [0., 1., 0.],\n",
       "       [0., 0., 1.]])"
      ]
     },
     "execution_count": 70,
     "metadata": {},
     "output_type": "execute_result"
    }
   ],
   "source": [
    "arr = np.eye(3)\n",
    "arr"
   ]
  },
  {
   "cell_type": "markdown",
   "id": "38e0ad3b",
   "metadata": {},
   "source": [
    "## Open-ended: Write a code snippet to create a 4x4 matrix filled with the value 7."
   ]
  },
  {
   "cell_type": "code",
   "execution_count": 72,
   "id": "530ae422",
   "metadata": {},
   "outputs": [
    {
     "data": {
      "text/plain": [
       "array([[7, 7, 7, 7],\n",
       "       [7, 7, 7, 7],\n",
       "       [7, 7, 7, 7],\n",
       "       [7, 7, 7, 7]])"
      ]
     },
     "execution_count": 72,
     "metadata": {},
     "output_type": "execute_result"
    }
   ],
   "source": [
    "arr = np.full((4, 4), 7)\n",
    "arr"
   ]
  },
  {
   "cell_type": "markdown",
   "id": "ce4945a5",
   "metadata": {},
   "source": [
    "## Open-ended: Write a code snippet to create an array containing the even numbers from 10 to 30."
   ]
  },
  {
   "cell_type": "code",
   "execution_count": 74,
   "id": "0f851e8c",
   "metadata": {},
   "outputs": [
    {
     "data": {
      "text/plain": [
       "array([10, 12, 14, 16, 18, 20, 22, 24, 26, 28, 30])"
      ]
     },
     "execution_count": 74,
     "metadata": {},
     "output_type": "execute_result"
    }
   ],
   "source": [
    "arr = np.arange(10, 31, 2)\n",
    "arr"
   ]
  },
  {
   "cell_type": "markdown",
   "id": "9f2a5aff",
   "metadata": {},
   "source": [
    "## Open-ended: Write a code snippet to create an array of 10 random integers between 50 and 100."
   ]
  },
  {
   "cell_type": "code",
   "execution_count": null,
   "id": "ec00c05c",
   "metadata": {},
   "outputs": [],
   "source": []
  },
  {
   "cell_type": "code",
   "execution_count": 76,
   "id": "47c6db6b",
   "metadata": {},
   "outputs": [
    {
     "data": {
      "text/plain": [
       "array([96, 96, 80, 68, 97, 52, 55, 73, 56, 81])"
      ]
     },
     "execution_count": 76,
     "metadata": {},
     "output_type": "execute_result"
    }
   ],
   "source": [
    "arr = np.random.randint(50, 101, size=10)\n",
    "arr"
   ]
  },
  {
   "cell_type": "markdown",
   "id": "adede06c",
   "metadata": {},
   "source": [
    "## Exercise: Write a function that takes two arrays and returns their element-wise product."
   ]
  },
  {
   "cell_type": "code",
   "execution_count": 82,
   "id": "bcf21248",
   "metadata": {},
   "outputs": [],
   "source": [
    "def element_wise_product(array1, array2):\n",
    "    # Ensure the arrays have the same length\n",
    "    if len(array1) != len(array2):\n",
    "        raise ValueError(\"Both arrays must have the same length\")\n",
    "    \n",
    "    # Calculate the element-wise product\n",
    "    product = [a * b for a, b in zip(array1, array2)]\n",
    "    \n",
    "    return product\n"
   ]
  },
  {
   "cell_type": "code",
   "execution_count": 86,
   "id": "fcd3dd56",
   "metadata": {},
   "outputs": [
    {
     "name": "stdout",
     "output_type": "stream",
     "text": [
      "[4, 10, 18]\n"
     ]
    }
   ],
   "source": [
    "array1 = [1, 2, 3]\n",
    "array2 = [4, 5, 6]\n",
    "\n",
    "result = element_wise_product(array1, array2)\n",
    "print(result)\n"
   ]
  },
  {
   "cell_type": "markdown",
   "id": "8bcb5830",
   "metadata": {},
   "source": [
    "## Exercise: Write a function that takes an array and returns the maximum and minimum values."
   ]
  },
  {
   "cell_type": "code",
   "execution_count": 88,
   "id": "de9e884d",
   "metadata": {},
   "outputs": [
    {
     "data": {
      "text/plain": [
       "(97, 52)"
      ]
     },
     "execution_count": 88,
     "metadata": {},
     "output_type": "execute_result"
    }
   ],
   "source": [
    "def max_min(arr):\n",
    "    return np.max(arr), np.min(arr)\n",
    "max_min(arr)"
   ]
  },
  {
   "cell_type": "markdown",
   "id": "145e4af2",
   "metadata": {},
   "source": [
    "## Exercise: Write a function that normalizes an array (scales all values between 0 and 1)."
   ]
  },
  {
   "cell_type": "code",
   "execution_count": 90,
   "id": "2a687a0a",
   "metadata": {},
   "outputs": [
    {
     "data": {
      "text/plain": [
       "array([0.97777778, 0.97777778, 0.62222222, 0.35555556, 1.        ,\n",
       "       0.        , 0.06666667, 0.46666667, 0.08888889, 0.64444444])"
      ]
     },
     "execution_count": 90,
     "metadata": {},
     "output_type": "execute_result"
    }
   ],
   "source": [
    "\n",
    "def normalize(arr):\n",
    "    return (arr - np.min(arr)) / (np.max(arr) - np.min(arr))\n",
    "normalize(arr)"
   ]
  },
  {
   "cell_type": "markdown",
   "id": "db64d7f2",
   "metadata": {},
   "source": [
    "## Exercise: Write a function that takes an array and returns the index of the maximum value."
   ]
  },
  {
   "cell_type": "code",
   "execution_count": 96,
   "id": "931e929c",
   "metadata": {},
   "outputs": [
    {
     "name": "stdout",
     "output_type": "stream",
     "text": [
      "2\n"
     ]
    }
   ],
   "source": [
    "def index_of_max(arr):\n",
    "    return np.argmax(arr)\n",
    "\n",
    "# Example usage\n",
    "arr = [10, 20, 30, 25, 15]\n",
    "result = index_of_max(arr)\n",
    "print(result)  # Output: 2 (since 30 is the maximum value at index 2\n"
   ]
  },
  {
   "cell_type": "markdown",
   "id": "97b7bcfe",
   "metadata": {},
   "source": [
    "## Exercise: Write a function that takes a 2D array and returns the sum of each row."
   ]
  },
  {
   "cell_type": "code",
   "execution_count": 113,
   "id": "5f3dbd48",
   "metadata": {},
   "outputs": [],
   "source": [
    "arr = np.arange(1, 26).reshape(5, 5)"
   ]
  },
  {
   "cell_type": "code",
   "execution_count": 115,
   "id": "c3f27ea6",
   "metadata": {},
   "outputs": [
    {
     "data": {
      "text/plain": [
       "array([ 15,  40,  65,  90, 115])"
      ]
     },
     "execution_count": 115,
     "metadata": {},
     "output_type": "execute_result"
    }
   ],
   "source": [
    "def row_sums(arr):\n",
    "    return np.sum(arr, axis=1)\n",
    "\n",
    "row_sums(arr)"
   ]
  },
  {
   "cell_type": "markdown",
   "id": "577ad4b4",
   "metadata": {},
   "source": [
    "## Exercise: Write a function that takes a 2D array and returns the sum of each column."
   ]
  },
  {
   "cell_type": "code",
   "execution_count": 107,
   "id": "03ee8b24",
   "metadata": {},
   "outputs": [],
   "source": [
    "arr = np.arange(1, 26).reshape(5, 5)"
   ]
  },
  {
   "cell_type": "code",
   "execution_count": 117,
   "id": "fbf30372",
   "metadata": {},
   "outputs": [
    {
     "data": {
      "text/plain": [
       "array([55, 60, 65, 70, 75])"
      ]
     },
     "execution_count": 117,
     "metadata": {},
     "output_type": "execute_result"
    }
   ],
   "source": [
    "def col_sums(arr):\n",
    "    return np.sum(arr, axis=0)\n",
    "\n",
    "col_sums(arr)"
   ]
  },
  {
   "cell_type": "markdown",
   "id": "9b493017",
   "metadata": {},
   "source": [
    "## Exercise: Write a function that takes a 2D array and returns the transpose of the array."
   ]
  },
  {
   "cell_type": "code",
   "execution_count": 125,
   "id": "179d73c8-3998-4a51-95f3-8728e9582473",
   "metadata": {},
   "outputs": [],
   "source": [
    "matrix = np.array([\n",
    "    [1, 2, 3],\n",
    "    [4, 5, 6],\n",
    "    [7, 8, 9]])"
   ]
  },
  {
   "cell_type": "code",
   "execution_count": 127,
   "id": "1ab4e9a0",
   "metadata": {},
   "outputs": [
    {
     "data": {
      "text/plain": [
       "array([[1, 4, 7],\n",
       "       [2, 5, 8],\n",
       "       [3, 6, 9]])"
      ]
     },
     "execution_count": 127,
     "metadata": {},
     "output_type": "execute_result"
    }
   ],
   "source": [
    "def transpose(matrix):\n",
    "    return np.transpose(matrix)\n",
    "transpose(matrix)"
   ]
  },
  {
   "cell_type": "markdown",
   "id": "b54b10dd",
   "metadata": {},
   "source": [
    "## Exercise: Write a function that takes an array and removes all the even numbers."
   ]
  },
  {
   "cell_type": "code",
   "execution_count": 141,
   "id": "fdfb3e5d",
   "metadata": {},
   "outputs": [],
   "source": [
    "arr = np.array([1, 2, 3, 4, 5, 6, 7, 8, 9, 10])"
   ]
  },
  {
   "cell_type": "code",
   "execution_count": 143,
   "id": "1411b82c",
   "metadata": {},
   "outputs": [
    {
     "data": {
      "text/plain": [
       "array([1, 3, 5, 7, 9])"
      ]
     },
     "execution_count": 143,
     "metadata": {},
     "output_type": "execute_result"
    }
   ],
   "source": [
    "def remove_even(arr):\n",
    "    return arr[arr % 2 != 0]\n",
    "remove_even(arr)"
   ]
  },
  {
   "cell_type": "code",
   "execution_count": 145,
   "id": "b1018ac0-d419-4223-985a-18f198ee7156",
   "metadata": {},
   "outputs": [
    {
     "data": {
      "text/plain": [
       "array([1, 3, 5, 7, 9])"
      ]
     },
     "execution_count": 145,
     "metadata": {},
     "output_type": "execute_result"
    }
   ],
   "source": [
    "remove_even(matrix)"
   ]
  },
  {
   "cell_type": "markdown",
   "id": "083884fe",
   "metadata": {},
   "source": [
    "## Exercise: Write a function that takes an array and reverses its elements."
   ]
  },
  {
   "cell_type": "code",
   "execution_count": 147,
   "id": "f3c4392f",
   "metadata": {},
   "outputs": [
    {
     "data": {
      "text/plain": [
       "array([10,  9,  8,  7,  6,  5,  4,  3,  2,  1])"
      ]
     },
     "execution_count": 147,
     "metadata": {},
     "output_type": "execute_result"
    }
   ],
   "source": [
    "def reverse_array(arr):\n",
    "    return arr[::-1]\n",
    "\n",
    "reverse_array(arr)"
   ]
  },
  {
   "cell_type": "markdown",
   "id": "a6e78bf7",
   "metadata": {},
   "source": [
    "## Exercise: Write a function that takes a 2D array and returns the trace of the matrix (sum of diagonal elements)."
   ]
  },
  {
   "cell_type": "code",
   "execution_count": 151,
   "id": "97937a8e",
   "metadata": {},
   "outputs": [
    {
     "data": {
      "text/plain": [
       "15"
      ]
     },
     "execution_count": 151,
     "metadata": {},
     "output_type": "execute_result"
    }
   ],
   "source": [
    "def matrix_trace(arr):\n",
    "    return np.trace(arr)\n",
    "#The trace of a square matrix is the sum of its diagonal entries.\n",
    "matrix_trace(matrix)"
   ]
  },
  {
   "cell_type": "markdown",
   "id": "9c77ce7b",
   "metadata": {},
   "source": [
    "## Exercise: Write a function that takes two arrays and returns their dot product."
   ]
  },
  {
   "cell_type": "code",
   "execution_count": 153,
   "id": "79cd44eb",
   "metadata": {},
   "outputs": [],
   "source": [
    "arr1=[1,2,3]\n",
    "arr2=[4,5,6]"
   ]
  },
  {
   "cell_type": "code",
   "execution_count": 155,
   "id": "f2a59b98",
   "metadata": {},
   "outputs": [
    {
     "data": {
      "text/plain": [
       "32"
      ]
     },
     "execution_count": 155,
     "metadata": {},
     "output_type": "execute_result"
    }
   ],
   "source": [
    "def dot_product(arr1, arr2):\n",
    "    return np.dot(arr1, arr2)\n",
    "dot_product(arr1, arr2)"
   ]
  },
  {
   "cell_type": "code",
   "execution_count": 163,
   "id": "72d693f1-f0f9-4cba-832c-05ba4269d8a1",
   "metadata": {},
   "outputs": [
    {
     "data": {
      "text/plain": [
       "array([[ 8,  5],\n",
       "       [20, 11]])"
      ]
     },
     "execution_count": 163,
     "metadata": {},
     "output_type": "execute_result"
    }
   ],
   "source": [
    "a = [[1, 2], \n",
    "     [3, 4]]\n",
    "b = [[4, 1], \n",
    "     [2, 2]]\n",
    "dot_product(a,b)"
   ]
  },
  {
   "cell_type": "markdown",
   "id": "d99c53fa",
   "metadata": {},
   "source": [
    "## Exercise: Write a function that takes a 1D array and returns a boolean array indicating whether each element is greater than 5."
   ]
  },
  {
   "cell_type": "code",
   "execution_count": null,
   "id": "89795031",
   "metadata": {},
   "outputs": [],
   "source": [
    "arr = np.array([1, 2, 3, 4, 5, 6, 7, 8, 9, 10])"
   ]
  },
  {
   "cell_type": "code",
   "execution_count": 165,
   "id": "340736f0",
   "metadata": {},
   "outputs": [
    {
     "data": {
      "text/plain": [
       "array([False, False, False, False, False,  True,  True,  True,  True,\n",
       "        True])"
      ]
     },
     "execution_count": 165,
     "metadata": {},
     "output_type": "execute_result"
    }
   ],
   "source": [
    "\n",
    "def greater_than_five(arr):\n",
    "    return arr > 5\n",
    "greater_than_five(arr)"
   ]
  },
  {
   "cell_type": "code",
   "execution_count": 167,
   "id": "b14eb2ee-5bdb-4cb8-b74d-0435efe3cffe",
   "metadata": {},
   "outputs": [
    {
     "data": {
      "text/plain": [
       "array([False, False,  True, False, False, False,  True, False,  True,\n",
       "        True])"
      ]
     },
     "execution_count": 167,
     "metadata": {},
     "output_type": "execute_result"
    }
   ],
   "source": [
    "arr = np.array([1, 2, 13, 4, 5, 0.6, 7, 0.8, 9, 10])\n",
    "greater_than_five(arr)"
   ]
  },
  {
   "cell_type": "code",
   "execution_count": null,
   "id": "df143e81-4ca4-4427-b4dc-92667307150a",
   "metadata": {},
   "outputs": [],
   "source": []
  }
 ],
 "metadata": {
  "kernelspec": {
   "display_name": "Python 3 (ipykernel)",
   "language": "python",
   "name": "python3"
  },
  "language_info": {
   "codemirror_mode": {
    "name": "ipython",
    "version": 3
   },
   "file_extension": ".py",
   "mimetype": "text/x-python",
   "name": "python",
   "nbconvert_exporter": "python",
   "pygments_lexer": "ipython3",
   "version": "3.9.19"
  }
 },
 "nbformat": 4,
 "nbformat_minor": 5
}
